{
 "cells": [
  {
   "cell_type": "markdown",
   "metadata": {},
   "source": [
    "According to central limit theorem, sum/mean of N independent random variables from any distribution follows a normal distribution as N tends to become a large number. It does not require that random variables come from normal distribution. \n",
    "\n",
    "Here I create a ipython widget showing this behaviour. The user can choose which distribution the random variables come from and the value of N. "
   ]
  },
  {
   "cell_type": "code",
   "execution_count": 1,
   "metadata": {},
   "outputs": [
    {
     "data": {
      "application/vnd.jupyter.widget-view+json": {
       "model_id": "a52294cf593d40498c2c9e44d74b5d79",
       "version_major": 2,
       "version_minor": 0
      },
      "text/plain": [
       "interactive(children=(IntSlider(value=1, continuous_update=False, description='N', min=1), Dropdown(descriptio…"
      ]
     },
     "metadata": {},
     "output_type": "display_data"
    }
   ],
   "source": [
    "from ipywidgets import interact, interactive, fixed, interact_manual\n",
    "import ipywidgets as widgets\n",
    "import matplotlib.pyplot as plt\n",
    "from functools import partial\n",
    "from scipy import stats\n",
    "from numpy import random\n",
    "\n",
    "\n",
    "@interact(N=widgets.IntSlider(min=1, max=100, step=1, value=1, continuous_update=False),\n",
    "          Distribution=[('Expontential',random.exponential),\n",
    "                       ('Uniform', random.uniform),\n",
    "                       ('Log Normal', partial(random.lognormal, mean  = 0, sigma = 0.25)), \n",
    "                       ]\n",
    "         )\n",
    "def mean_random_variables(N, Distribution):\n",
    "    \"\"\"\n",
    "    Calculates mean of N independent random variables of a distribution and \n",
    "    plot the histogram and normal probability plot.\n",
    "       \n",
    "    \"\"\"\n",
    "    fig, ax = plt.subplots(nrows = 1, ncols = 2, figsize = (12,4))\n",
    "    \n",
    "    size = 1000\n",
    "    x = np.zeros(size)\n",
    "    for _ in np.arange(N):\n",
    "        x += Distribution(size=size)/N\n",
    "\n",
    "    # Histogram of mean of Random Variables\n",
    "    ax[0].hist(x)\n",
    "    plt.setp(ax[0], xlabel = 'x', ylabel = 'y', title = f'Mean of {N} Random Variables')\n",
    "\n",
    "    # Normal Probability Plot to check if the mean of random variables follows normal distribution.\n",
    "    stats.probplot(x,plot = plt)\n",
    "    plt.setp(ax[1], xlabel = 'Normal Distributed Variable', ylabel = 'x', title = 'Normal Probability Plot')"
   ]
  },
  {
   "cell_type": "code",
   "execution_count": null,
   "metadata": {},
   "outputs": [],
   "source": []
  }
 ],
 "metadata": {
  "kernelspec": {
   "display_name": "Python 3",
   "language": "python",
   "name": "python3"
  },
  "language_info": {
   "codemirror_mode": {
    "name": "ipython",
    "version": 3
   },
   "file_extension": ".py",
   "mimetype": "text/x-python",
   "name": "python",
   "nbconvert_exporter": "python",
   "pygments_lexer": "ipython3",
   "version": "3.6.8"
  },
  "toc": {
   "base_numbering": 1,
   "nav_menu": {},
   "number_sections": true,
   "sideBar": true,
   "skip_h1_title": false,
   "title_cell": "Table of Contents",
   "title_sidebar": "Contents",
   "toc_cell": false,
   "toc_position": {},
   "toc_section_display": true,
   "toc_window_display": false
  }
 },
 "nbformat": 4,
 "nbformat_minor": 2
}
